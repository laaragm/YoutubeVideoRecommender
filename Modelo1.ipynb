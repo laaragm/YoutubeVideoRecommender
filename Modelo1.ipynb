{
 "cells": [
  {
   "cell_type": "markdown",
   "metadata": {},
   "source": [
    "## Active Learning "
   ]
  },
  {
   "cell_type": "markdown",
   "metadata": {},
   "source": [
    "Active learning is a special case of machine learning in which a learning algorithm can interactively query a user (or some other information source) to label new data points with the desired outputs. Being able to properly utilise active learning will give you a very powerful tool which can be used when there is a shortage of labelled data. "
   ]
  },
  {
   "cell_type": "code",
   "execution_count": 2,
   "metadata": {},
   "outputs": [
    {
     "name": "stdout",
     "output_type": "stream",
     "text": [
      "Populating the interactive namespace from numpy and matplotlib\n"
     ]
    }
   ],
   "source": [
    "import pandas as pd\n",
    "import numpy as np\n",
    "import re\n",
    "import time\n",
    "import bs4 as bs4\n",
    "import json\n",
    "import glob\n",
    "import tqdm\n",
    "from sklearn.linear_model import LogisticRegression\n",
    "from sklearn.tree import DecisionTreeClassifier\n",
    "from sklearn.model_selection import train_test_split\n",
    "\n",
    "pd.set_option('max_columns', 131)\n",
    "\n",
    "%matplotlib inline\n",
    "%pylab inline"
   ]
  },
  {
   "cell_type": "code",
   "execution_count": null,
   "metadata": {},
   "outputs": [],
   "source": [
    "df = pd.read_csv('raw_data_with_labels.csv', index_col=0)\n",
    "df = df[df['y'].notnull()]\n",
    "df.shape"
   ]
  },
  {
   "cell_type": "code",
   "execution_count": null,
   "metadata": {},
   "outputs": [],
   "source": [
    "df.head()"
   ]
  },
  {
   "cell_type": "code",
   "execution_count": null,
   "metadata": {},
   "outputs": [],
   "source": [
    "cleaned_df = pd.DataFrame(index=df.index)"
   ]
  },
  {
   "cell_type": "markdown",
   "metadata": {},
   "source": [
    "### 1. Cleaning DateTime"
   ]
  },
  {
   "cell_type": "code",
   "execution_count": null,
   "metadata": {},
   "outputs": [],
   "source": [
    "#gets day, month and year; extracts creates a df with these three columns for us\n",
    "cleaned_date = df['watch-time-text'].str.extract(r\"(\\d+) de ([a-z]+)\\. de (\\d+)\")\n",
    "#put 0 in front of the days that are less than 10; map applies a function on each element of this specific column \n",
    "cleaned_date[0] = cleaned_date[0].map(lambda x: \"0\"+x[0] if len(x) == 1 else x)\n",
    "#cleaned_date[1] = cleaned_date[1].map(lambda x: x[0].upper()+x[1:])\n",
    "\n",
    "month_matcher = {\n",
    "                    \"jan\": \"Jan\",\n",
    "                    \"fev\": \"Feb\",\n",
    "                    \"mar\": \"Mar\",\n",
    "                    \"abr\": \"Apr\",\n",
    "                    \"mai\": \"May\",\n",
    "                    \"jun\": \"Jun\",\n",
    "                    \"jul\": \"Jul\",\n",
    "                    \"ago\": \"Aug\",\n",
    "                    \"set\": \"Sep\",\n",
    "                    \"out\": \"Oct\",\n",
    "                    \"nov\": \"Nov\",\n",
    "                    \"dez\": \"Dec\"\n",
    "                }\n",
    "\n",
    "cleaned_date[1] = cleaned_date[1].map(month_matcher)\n",
    "cleaned_date = cleaned_date.apply(lambda x: \" \".join(x, axis=1))\n",
    "cleaned_date.head()"
   ]
  },
  {
   "cell_type": "code",
   "execution_count": null,
   "metadata": {},
   "outputs": [],
   "source": [
    "cleaned_df['date'] = pd.to_datetime(cleaned_date, format=\"%d %b %Y\")\n",
    "cleaned_df.head()"
   ]
  },
  {
   "cell_type": "code",
   "execution_count": null,
   "metadata": {},
   "outputs": [],
   "source": []
  }
 ],
 "metadata": {
  "kernelspec": {
   "display_name": "Python 3",
   "language": "python",
   "name": "python3"
  },
  "language_info": {
   "codemirror_mode": {
    "name": "ipython",
    "version": 3
   },
   "file_extension": ".py",
   "mimetype": "text/x-python",
   "name": "python",
   "nbconvert_exporter": "python",
   "pygments_lexer": "ipython3",
   "version": "3.7.6"
  }
 },
 "nbformat": 4,
 "nbformat_minor": 4
}
