{
 "cells": [
  {
   "cell_type": "markdown",
   "metadata": {},
   "source": [
    "### Perguntas a serem respondidas válidas para qualquer projeto:\n",
    "\n",
    "## Qual é o problema?\n",
    "Gasto muito tempo buscando muitos tempos buscando novos vídeos no Youtube.\n",
    "\n",
    "## Qual a solução ideal?\n",
    "Ter uma lista apenas dos vídeos que eu vou gostar.\n",
    "\n",
    "## Como fazer isso com Data Science/Machine Learning?\n",
    "Criar uma solução de recomendação de vídeos.\n",
    "\n",
    "## Como essa solução será usada em produção?\n",
    "Abordagem com \"ponto de corte\" -> exemplo: retornar apenas o top 10. <br>\n",
    "Abordagem de ranking -> ordenar os vídeos mais interessantes primeiro. <br>\n",
    "\n",
    "Web app com os links para os vídeos e as previsões ordenadas.\n",
    "\n",
    "## Como irei saber que deu certo?\n",
    "Precisamos ter uma métrica primária que consigamos determinar se o model está resolvendo ou não. É importante definir apenas uma métrica primária e podem ser definidas várias outras secundárias, lembrando que não adianta melhorar a métrica primária e piorar várias das secundárias. Outro ponto importante é que o entendimento do processo que é usado atualmente na empresa é muito importante pra conseguir definir os objetivos.<br><br>\n",
    "Métrica primária: quantidade de vídeos dentre os top N recomendados que eu coloco na lista de \"watch later\". <br>\n",
    "Métrica(s) secundária(s): quanto tempo eu passo selecionando vídeos. <br>\n",
    "\n",
    "### Portfólio\n",
    "\n",
    "## Como escolher o problema para trabalhar?\n",
    "Problema simples (problema que já foi resolvido por várias empresas/pessoas) \n",
    "\n",
    "Recomendação (aumento de vendas, marketing) <br>\n",
    "Time series (previsão de demanda, cancelamento)\n",
    "\n",
    "Quais seus interesses?\n",
    "\n",
    "Quão fácil é achar dados para essa solução?\n",
    "Kaggle, Google Dataset Search\n",
    "\n",
    "Fazer uma lista de \"fontes de informação\" ideais\n",
    "\n",
    "Qual o mínimo de dados que eu preciso? <br>\n",
    "Características dos vídeos(título) e um label, anotação <br>\n",
    "Exemplos de queries = [\"machine+learning\", \"kaggle\", \"data+science\"]"
   ]
  }
 ],
 "metadata": {
  "kernelspec": {
   "display_name": "Python 3.7.7 64-bit",
   "language": "python",
   "name": "python37764biteb8af12996044c4c9b4d937b277d3dd7"
  },
  "language_info": {
   "codemirror_mode": {
    "name": "ipython",
    "version": 3
   },
   "file_extension": ".py",
   "mimetype": "text/x-python",
   "name": "python",
   "nbconvert_exporter": "python",
   "pygments_lexer": "ipython3",
   "version": "3.7.7"
  }
 },
 "nbformat": 4,
 "nbformat_minor": 4
}
